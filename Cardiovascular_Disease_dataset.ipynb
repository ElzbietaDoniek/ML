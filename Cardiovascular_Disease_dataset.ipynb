{
 "cells": [
  {
   "cell_type": "markdown",
   "metadata": {},
   "source": [
    "https://www.kaggle.com/sulianova/cardiovascular-disease-dataset/download\n",
    "\n",
    "Features:\n",
    "\n",
    "Age | Objective Feature | age | int (days)\n",
    "\n",
    "Height | Objective Feature | height | int (cm) |\n",
    "\n",
    "Weight | Objective Feature | weight | float (kg) |\n",
    "\n",
    "Gender | Objective Feature | gender | categorical code |\n",
    "\n",
    "Systolic blood pressure | Examination Feature | ap_hi | int |\n",
    "\n",
    "Diastolic blood pressure | Examination Feature | ap_lo | int |\n",
    "\n",
    "Cholesterol | Examination Feature | cholesterol | 1: normal, 2: above normal, 3: well above normal |\n",
    "\n",
    "Glucose | Examination Feature | gluc | 1: normal, 2: above normal, 3: well above normal |\n",
    "\n",
    "Smoking | Subjective Feature | smoke | binary |\n",
    "\n",
    "Alcohol intake | Subjective Feature | alco | binary |\n",
    "\n",
    "Physical activity | Subjective Feature | active | binary |\n",
    "\n",
    "Presence or absence of cardiovascular disease | Target Variable | cardio | binary |\n"
   ]
  },
  {
   "cell_type": "code",
   "execution_count": null,
   "metadata": {},
   "outputs": [],
   "source": [
    "import numpy as np\n",
    "import pandas as pd\n",
    "import matplotlib.pyplot as plt\n",
    "import seaborn as sns\n",
    "%matplotlib inline\n",
    "from sklearn.dummy import DummyClassifier        \n",
    "from sklearn.linear_model import LogisticRegression\n",
    "from sklearn.metrics import accuracy_score\n",
    "from sklearn.model_selection import train_test_split\n",
    "from sklearn.tree import DecisionTreeClassifier"
   ]
  },
  {
   "cell_type": "code",
   "execution_count": null,
   "metadata": {},
   "outputs": [],
   "source": [
    "# read the data\n",
    "df = pd.read_excel(\"Desktop/Python_ML/cardio.xlsx\")\n",
    "df.sample(3)"
   ]
  },
  {
   "cell_type": "code",
   "execution_count": null,
   "metadata": {},
   "outputs": [],
   "source": [
    "#check the number of rows and columns\n",
    "df.shape"
   ]
  },
  {
   "cell_type": "code",
   "execution_count": null,
   "metadata": {},
   "outputs": [],
   "source": [
    "#find out what are the datatypes, do we have null values, what is the memory usage\n",
    "df.info()"
   ]
  },
  {
   "cell_type": "code",
   "execution_count": null,
   "metadata": {},
   "outputs": [],
   "source": [
    "#optimize memory usage\n",
    "df['smoke'] = df['smoke'].astype('int8')\n",
    "df['alco'] = df['alco'].astype('int8')\n",
    "df['active'] = df['active'].astype('int8')\n",
    "df['cardio'] = df['cardio'].astype('int8')\n",
    "df['cholesterol'] = df['cholesterol'].astype('int8')\n",
    "df['gluc'] = df['gluc'].astype('int8')\n",
    "df.info()"
   ]
  },
  {
   "cell_type": "code",
   "execution_count": null,
   "metadata": {},
   "outputs": [],
   "source": [
    "#create a new variable\n",
    "df['age_years'] = df['age']/365\n",
    "df['age_years'] = df['age_years'].round(decimals=2)\n",
    "df.sample(5)"
   ]
  },
  {
   "cell_type": "code",
   "execution_count": null,
   "metadata": {},
   "outputs": [],
   "source": [
    "#set an id column as an index\n",
    "df.set_index('id',inplace=True)"
   ]
  },
  {
   "cell_type": "code",
   "execution_count": null,
   "metadata": {},
   "outputs": [],
   "source": [
    "#rename columns\n",
    "df.columns = ['age_days', 'gender', 'height', 'weight', 'pressure_sys', 'pressure_dias', 'cholesterol',\n",
    "             'glucose', 'smoking', 'alcohol', 'active', 'cardio_target', 'age_years'] \n",
    "df.head()"
   ]
  },
  {
   "cell_type": "code",
   "execution_count": null,
   "metadata": {},
   "outputs": [],
   "source": [
    "#check if there are any strange values in pressure columns\n",
    "pressure_neg = df [ (df['pressure_sys'] < 0) | (df['pressure_dias'] < 0) ]\n",
    "len(pressure_neg.index)"
   ]
  },
  {
   "cell_type": "code",
   "execution_count": null,
   "metadata": {},
   "outputs": [],
   "source": [
    "#delete observations with unrealistic pressure values\n",
    "df.drop(df[(df['pressure_sys'] < 0) | (df['pressure_dias'] < 0)].index, inplace=True)\n",
    "df.shape"
   ]
  },
  {
   "cell_type": "code",
   "execution_count": null,
   "metadata": {},
   "outputs": [],
   "source": [
    "#check if there are categorical variables which need for example encoding\n",
    "cat_feats = df.select_dtypes(include=[np.object]).columns\n",
    "cat_feats"
   ]
  },
  {
   "cell_type": "code",
   "execution_count": null,
   "metadata": {},
   "outputs": [],
   "source": [
    "#correlation - looking for patterns, inspo for feature engineering, plots\n",
    "plt.rcParams['figure.figsize']=(20,10)\n",
    "sns.heatmap(df.corr(), vmax=1., vmin=-1., annot=True, linewidths=.8, cmap=\"Greens\");"
   ]
  },
  {
   "cell_type": "code",
   "execution_count": null,
   "metadata": {},
   "outputs": [],
   "source": [
    "#istogram for age feature\n",
    "df['age_years'].plot(kind='hist', figsize=(8, 5))\n",
    "\n",
    "plt.title('Age distribution')\n",
    "plt.ylabel('Number of patients') \n",
    "plt.xlabel('Age')\n",
    "\n",
    "plt.show()"
   ]
  },
  {
   "cell_type": "code",
   "execution_count": null,
   "metadata": {},
   "outputs": [],
   "source": [
    "#create bins for easier interpretation\n",
    "def height_bins(row):\n",
    "    if row['height'] > 0 and row['height']   <=  90: return '0-90'\n",
    "    if row['height'] > 90 and row['height']  <= 125: return '90-80'\n",
    "    if row['height'] > 125 and row['height'] <= 160: return '125-160'\n",
    "    if row['height'] > 160 and row['height'] <= 195: return '160-195'\n",
    "    if row['height'] > 195 and row['height'] <= 230: return '195-230'\n",
    "    return '230-250'\n",
    "\n",
    "df['height_bins'] = df [ ['height']].apply(height_bins, axis = 1)\n",
    "\n",
    "df.sample(3)"
   ]
  },
  {
   "cell_type": "code",
   "execution_count": null,
   "metadata": {},
   "outputs": [],
   "source": [
    "# plotting height bins and gender (quite strong corr)\n",
    "plt.figure(figsize=(15, 5))\n",
    "sns.barplot(x='height_bins', y=\"cardio_target\", hue='gender', data=df, color = 'green')\n",
    "plt.xticks(rotation=90);"
   ]
  },
  {
   "cell_type": "code",
   "execution_count": null,
   "metadata": {},
   "outputs": [],
   "source": [
    "# plotting glucose and cholesterol results (quite strong corr)\n",
    "plt.figure(figsize=(15, 5))\n",
    "sns.barplot(x=\"glucose\", y=\"cardio_target\", hue='cholesterol', data=df, color = 'green')\n",
    "plt.xticks(rotation=90);"
   ]
  },
  {
   "cell_type": "code",
   "execution_count": null,
   "metadata": {},
   "outputs": [],
   "source": [
    "#find a mean value for observations grouped by choosen features\n",
    "df.groupby('height_bins')['alcohol', 'glucose', 'pressure_sys', 'pressure_dias'].mean().round(decimals=2)"
   ]
  },
  {
   "cell_type": "code",
   "execution_count": null,
   "metadata": {},
   "outputs": [],
   "source": [
    "#define function in order to reuse it when building different models\n",
    "def train_and_predict_model(X_train, X_test, y_train, y_test, model, success_metric=accuracy_score):\n",
    "    model.fit(X_train, y_train)\n",
    "    y_pred = model.predict(X_test)\n",
    "    \n",
    "    print(\"Distribution:\")\n",
    "    print( pd.Series(y_pred).value_counts() )\n",
    "    \n",
    "    return success_metric(y_test, y_pred)"
   ]
  },
  {
   "cell_type": "code",
   "execution_count": null,
   "metadata": {},
   "outputs": [],
   "source": [
    "#define model input and split observation into train and test\n",
    "X = df[['pressure_sys', 'active', 'weight','smoking', 'cholesterol', 'gender']].values\n",
    "y = df['cardio_target'].values\n",
    "X_train, X_test, y_train, y_test = train_test_split(X, y, test_size=0.3)\n",
    "\n",
    "print(\"Train:\", X_train.shape, y_train.shape)\n",
    "print(\"Test:\", X_test.shape, y_test.shape)"
   ]
  },
  {
   "cell_type": "code",
   "execution_count": null,
   "metadata": {},
   "outputs": [],
   "source": [
    "#first model\n",
    "train_and_predict_model(X_train, X_test, y_train, y_test, DummyClassifier())"
   ]
  },
  {
   "cell_type": "code",
   "execution_count": null,
   "metadata": {},
   "outputs": [],
   "source": [
    "#second model\n",
    "train_and_predict_model(X_train, X_test, y_train, y_test, LogisticRegression(solver='lbfgs', max_iter=300))"
   ]
  },
  {
   "cell_type": "code",
   "execution_count": null,
   "metadata": {},
   "outputs": [],
   "source": [
    "#third model\n",
    "train_and_predict_model(X_train, X_test, y_train, y_test, DecisionTreeClassifier())"
   ]
  }
 ],
 "metadata": {
  "kernelspec": {
   "display_name": "Python 3",
   "language": "python",
   "name": "python3"
  },
  "language_info": {
   "codemirror_mode": {
    "name": "ipython",
    "version": 3
   },
   "file_extension": ".py",
   "mimetype": "text/x-python",
   "name": "python",
   "nbconvert_exporter": "python",
   "pygments_lexer": "ipython3",
   "version": "3.7.1"
  }
 },
 "nbformat": 4,
 "nbformat_minor": 2
}
